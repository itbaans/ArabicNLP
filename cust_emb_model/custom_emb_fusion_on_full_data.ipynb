{
 "cells": [
  {
   "cell_type": "code",
   "execution_count": 1,
   "metadata": {
    "_cell_guid": "b1076dfc-b9ad-4769-8c92-a6c4dae69d19",
    "_uuid": "8f2839f25d086af736a60e9eeb907d3b93b6e0e5",
    "execution": {
     "iopub.execute_input": "2025-08-14T11:29:06.235460Z",
     "iopub.status.busy": "2025-08-14T11:29:06.235295Z",
     "iopub.status.idle": "2025-08-14T11:29:06.550561Z",
     "shell.execute_reply": "2025-08-14T11:29:06.549708Z",
     "shell.execute_reply.started": "2025-08-14T11:29:06.235445Z"
    },
    "trusted": true
   },
   "outputs": [],
   "source": [
    "import numpy as np\n",
    "import pandas as pd\n",
    "\n",
    "import os\n"
   ]
  },
  {
   "cell_type": "code",
   "execution_count": 2,
   "metadata": {
    "execution": {
     "iopub.execute_input": "2025-08-14T11:29:06.553059Z",
     "iopub.status.busy": "2025-08-14T11:29:06.552751Z",
     "iopub.status.idle": "2025-08-14T11:29:32.702335Z",
     "shell.execute_reply": "2025-08-14T11:29:32.701614Z",
     "shell.execute_reply.started": "2025-08-14T11:29:06.553043Z"
    },
    "trusted": true
   },
   "outputs": [
    {
     "name": "stderr",
     "output_type": "stream",
     "text": [
      "2025-08-14 11:29:14.338731: E external/local_xla/xla/stream_executor/cuda/cuda_fft.cc:477] Unable to register cuFFT factory: Attempting to register factory for plugin cuFFT when one has already been registered\n",
      "WARNING: All log messages before absl::InitializeLog() is called are written to STDERR\n",
      "E0000 00:00:1755170954.644789     111 cuda_dnn.cc:8310] Unable to register cuDNN factory: Attempting to register factory for plugin cuDNN when one has already been registered\n",
      "E0000 00:00:1755170954.727996     111 cuda_blas.cc:1418] Unable to register cuBLAS factory: Attempting to register factory for plugin cuBLAS when one has already been registered\n"
     ]
    }
   ],
   "source": [
    "from datasets import load_dataset\n",
    "from PIL import Image\n",
    "from transformers import (\n",
    "    CLIPProcessor, CLIPModel, CLIPVisionModel,\n",
    "    AutoModel, AutoProcessor, AutoTokenizer,\n",
    "    AutoModelForMaskedLM\n",
    ")\n",
    "import torch\n",
    "import torch.nn as nn\n",
    "import torch.nn.functional as F\n",
    "from torch.utils.data import DataLoader, Dataset, WeightedRandomSampler\n",
    "from torch.optim import AdamW\n",
    "from torch.optim.lr_scheduler import CosineAnnealingWarmRestarts, ReduceLROnPlateau\n",
    "from sklearn.model_selection import train_test_split\n",
    "from sklearn.metrics import accuracy_score, f1_score, classification_report\n",
    "import numpy as np\n",
    "from collections import Counter, defaultdict\n",
    "import os\n",
    "import json\n",
    "from datetime import datetime\n",
    "import pandas as pd\n"
   ]
  },
  {
   "cell_type": "code",
   "execution_count": 3,
   "metadata": {
    "execution": {
     "iopub.execute_input": "2025-08-14T11:29:32.703854Z",
     "iopub.status.busy": "2025-08-14T11:29:32.703197Z",
     "iopub.status.idle": "2025-08-14T11:29:32.716018Z",
     "shell.execute_reply": "2025-08-14T11:29:32.715196Z",
     "shell.execute_reply.started": "2025-08-14T11:29:32.703833Z"
    },
    "trusted": true
   },
   "outputs": [],
   "source": [
    "import random\n",
    "import torch\n",
    "import numpy as np\n",
    "\n",
    "# Set seeds for reproducibility\n",
    "def set_seed(seed=42):\n",
    "    random.seed(seed)\n",
    "    np.random.seed(seed)\n",
    "    torch.manual_seed(seed)\n",
    "    torch.cuda.manual_seed(seed)\n",
    "    torch.cuda.manual_seed_all(seed)\n",
    "    torch.backends.cudnn.deterministic = True\n",
    "    torch.backends.cudnn.benchmark = False\n",
    "\n",
    "set_seed(461)"
   ]
  },
  {
   "cell_type": "code",
   "execution_count": 4,
   "metadata": {
    "execution": {
     "iopub.execute_input": "2025-08-14T11:29:32.717140Z",
     "iopub.status.busy": "2025-08-14T11:29:32.716923Z",
     "iopub.status.idle": "2025-08-14T11:29:32.733637Z",
     "shell.execute_reply": "2025-08-14T11:29:32.732748Z",
     "shell.execute_reply.started": "2025-08-14T11:29:32.717117Z"
    },
    "trusted": true
   },
   "outputs": [
    {
     "data": {
      "text/plain": [
       "<torch._C.Generator at 0x7dc543e2e570>"
      ]
     },
     "execution_count": 4,
     "metadata": {},
     "output_type": "execute_result"
    }
   ],
   "source": [
    "def worker_init_fn(worker_id):\n",
    "    np.random.seed(461 + worker_id)\n",
    "\n",
    "g = torch.Generator()\n",
    "g.manual_seed(461)"
   ]
  },
  {
   "cell_type": "code",
   "execution_count": 5,
   "metadata": {
    "execution": {
     "iopub.execute_input": "2025-08-14T11:29:32.734896Z",
     "iopub.status.busy": "2025-08-14T11:29:32.734527Z",
     "iopub.status.idle": "2025-08-14T11:29:32.754381Z",
     "shell.execute_reply": "2025-08-14T11:29:32.753523Z",
     "shell.execute_reply.started": "2025-08-14T11:29:32.734878Z"
    },
    "trusted": true
   },
   "outputs": [],
   "source": [
    "class PrecomputedEmbeddingsDataset(Dataset):\n",
    "    def __init__(self, jsonl_path, embeddings_path, is_test=False):\n",
    "        \"\"\"\n",
    "        Args:\n",
    "            jsonl_path (str): Path to the original .jsonl file\n",
    "            embeddings_path (str): Path to JSON file with precomputed embeddings\n",
    "            is_test (bool): If True, skips loading labels (for test data)\n",
    "        \"\"\"\n",
    "        self.data = load_dataset('json', data_files=jsonl_path)['train']\n",
    "        with open(embeddings_path, 'r') as f:\n",
    "            self.embeddings = json.load(f)\n",
    "        \n",
    "        self.is_test = is_test\n",
    "        if not self.is_test:\n",
    "            self.labels = self.data['label']\n",
    "    \n",
    "    def __len__(self):\n",
    "        return len(self.data)\n",
    "    \n",
    "    def __getitem__(self, idx):\n",
    "        item = self.data[idx]\n",
    "        id_val = str(item['id'])  # JSON keys are strings\n",
    "        \n",
    "        if id_val not in self.embeddings:\n",
    "            raise KeyError(f\"Embeddings for ID {id_val} not found\")\n",
    "        \n",
    "        emb_data = self.embeddings[id_val]\n",
    "        \n",
    "        output = {\n",
    "            'image_embedding': torch.tensor(emb_data['image_embedding']),\n",
    "            'text_embedding': torch.tensor(emb_data['text_embedding']),\n",
    "        }\n",
    "        \n",
    "        if not self.is_test:\n",
    "            output['label'] = torch.tensor(item['label'], dtype=torch.long)\n",
    "        if self.is_test:\n",
    "            output['id'] = item['id']\n",
    "        \n",
    "        return output"
   ]
  },
  {
   "cell_type": "code",
   "execution_count": 6,
   "metadata": {
    "execution": {
     "iopub.execute_input": "2025-08-14T11:29:32.755551Z",
     "iopub.status.busy": "2025-08-14T11:29:32.755260Z",
     "iopub.status.idle": "2025-08-14T11:29:32.777094Z",
     "shell.execute_reply": "2025-08-14T11:29:32.776440Z",
     "shell.execute_reply.started": "2025-08-14T11:29:32.755527Z"
    },
    "trusted": true
   },
   "outputs": [],
   "source": [
    "class PrecomputedEmbeddingsClassifier(nn.Module):\n",
    "    def __init__(self, \n",
    "                 image_embedding_dim, \n",
    "                 text_embedding_dim,\n",
    "                 fusion_type='gate',\n",
    "                 projection_dim=256, \n",
    "                 dropout_rate=0.2,\n",
    "                 num_classes=2):\n",
    "        super().__init__()\n",
    "        self.fusion_type = fusion_type\n",
    "        \n",
    "        # Fusion configuration\n",
    "        if fusion_type == 'concat':\n",
    "            classifier_input_dim = image_embedding_dim + text_embedding_dim\n",
    "        else:\n",
    "            classifier_input_dim = projection_dim\n",
    "        \n",
    "        # Projection layers for non-concat methods\n",
    "        if fusion_type in ['add', 'mul', 'gate']:\n",
    "            self.image_proj = nn.Linear(image_embedding_dim, projection_dim)\n",
    "            self.text_proj = nn.Linear(text_embedding_dim, projection_dim)\n",
    "            self.norm = nn.LayerNorm(projection_dim)\n",
    "        \n",
    "        # Gated fusion components\n",
    "        if fusion_type == 'gate':\n",
    "            self.image_gate = nn.Linear(image_embedding_dim, projection_dim)\n",
    "            self.text_gate = nn.Linear(text_embedding_dim, projection_dim)\n",
    "            self.sigmoid = nn.Sigmoid()\n",
    "        \n",
    "        # Classification head\n",
    "        self.classifier = nn.Sequential(\n",
    "            nn.Linear(classifier_input_dim, projection_dim),\n",
    "            nn.ReLU(inplace=True),\n",
    "            nn.Dropout(p=dropout_rate),\n",
    "            nn.Linear(projection_dim, num_classes)\n",
    "        )\n",
    "\n",
    "    def forward(self, image_embedding, text_embedding):\n",
    "        # Apply fusion technique\n",
    "        if self.fusion_type == 'concat':\n",
    "            combined = torch.cat((image_embedding, text_embedding), dim=-1)\n",
    "        \n",
    "        elif self.fusion_type == 'add':\n",
    "            img_proj = F.relu(self.image_proj(image_embedding))\n",
    "            txt_proj = F.relu(self.text_proj(text_embedding))\n",
    "            combined = img_proj + txt_proj\n",
    "            combined = self.norm(combined)\n",
    "        \n",
    "        elif self.fusion_type == 'mul':\n",
    "            img_proj = F.relu(self.image_proj(image_embedding))\n",
    "            txt_proj = F.relu(self.text_proj(text_embedding))\n",
    "            combined = img_proj * txt_proj\n",
    "            combined = self.norm(combined)\n",
    "        \n",
    "        elif self.fusion_type == 'gate':\n",
    "            img_proj = F.relu(self.image_proj(image_embedding))\n",
    "            txt_proj = F.relu(self.text_proj(text_embedding))\n",
    "            \n",
    "            # Compute gating weights\n",
    "            gate_img = self.sigmoid(self.image_gate(image_embedding))\n",
    "            gate_txt = self.sigmoid(self.text_gate(text_embedding))\n",
    "            \n",
    "            # Apply gating mechanism\n",
    "            combined = gate_img * img_proj + gate_txt * txt_proj\n",
    "            combined = self.norm(combined)\n",
    "        \n",
    "        # Final classification\n",
    "        logits = self.classifier(combined)\n",
    "        return logits\n",
    "    "
   ]
  },
  {
   "cell_type": "code",
   "execution_count": 10,
   "metadata": {
    "execution": {
     "iopub.execute_input": "2025-08-14T11:29:32.845360Z",
     "iopub.status.busy": "2025-08-14T11:29:32.845171Z",
     "iopub.status.idle": "2025-08-14T11:29:39.019420Z",
     "shell.execute_reply": "2025-08-14T11:29:39.018555Z",
     "shell.execute_reply.started": "2025-08-14T11:29:32.845346Z"
    },
    "trusted": true
   },
   "outputs": [
    {
     "data": {
      "application/vnd.jupyter.widget-view+json": {
       "model_id": "cda398218bc34ca7a01f3be51264fc46",
       "version_major": 2,
       "version_minor": 0
      },
      "text/plain": [
       "Generating train split: 0 examples [00:00, ? examples/s]"
      ]
     },
     "metadata": {},
     "output_type": "display_data"
    },
    {
     "data": {
      "application/vnd.jupyter.widget-view+json": {
       "model_id": "a28215536773418e9cb04c77165bb257",
       "version_major": 2,
       "version_minor": 0
      },
      "text/plain": [
       "Generating train split: 0 examples [00:00, ? examples/s]"
      ]
     },
     "metadata": {},
     "output_type": "display_data"
    }
   ],
   "source": [
    "DEVICE='cuda'\n",
    "\n",
    "train_dataset = PrecomputedEmbeddingsDataset(\n",
    "    jsonl_path=\"/kaggle/input/qcri-final-folder/QCRI_ARABIC_FOLDER/new_train.jsonl\",\n",
    "    embeddings_path=\"/kaggle/input/qcri-final-folder/QCRI_ARABIC_FOLDER/embeddings.json\"\n",
    ")\n",
    "\n",
    "val_dataset = PrecomputedEmbeddingsDataset(\n",
    "    jsonl_path=\"/kaggle/input/qcri-final-folder/QCRI_ARABIC_FOLDER/new_test.jsonl\",\n",
    "    embeddings_path=\"/kaggle/input/qcri-final-folder/QCRI_ARABIC_FOLDER/embeddings.json\"\n",
    ")\n",
    "\n",
    "label_counts = Counter(train_dataset.labels)\n",
    "\n",
    "sample = train_dataset[0]\n",
    "\n",
    "\n",
    "# Create data loaders\n",
    "train_loader = DataLoader(\n",
    "    train_dataset, \n",
    "    batch_size=32, \n",
    "    shuffle=True,\n",
    "    generator=g,\n",
    "    worker_init_fn=worker_init_fn\n",
    ")\n",
    "\n",
    "val_loader = DataLoader(\n",
    "    val_dataset, \n",
    "    batch_size=32, \n",
    "    shuffle=False,\n",
    "    worker_init_fn=worker_init_fn\n",
    ")\n",
    "\n",
    "\n",
    "USE_FOCAL_LOSS=True\n",
    "\n",
    "# Focal Loss for class imbalance (handles hard examples)\n",
    "class FocalLoss(nn.Module):\n",
    "    def __init__(self, alpha=None, gamma=2.0):\n",
    "        super().__init__()\n",
    "        self.alpha = alpha\n",
    "        self.gamma = gamma\n",
    "\n",
    "    def forward(self, inputs, targets):\n",
    "        ce_loss = F.cross_entropy(inputs, targets, reduction='none')\n",
    "        pt = torch.exp(-ce_loss)\n",
    "        loss = (1 - pt) ** self.gamma * ce_loss\n",
    "        if self.alpha is not None:\n",
    "            loss = self.alpha[targets] * loss\n",
    "        return loss.mean()\n",
    "\n",
    "# Class-aware loss weighting\n",
    "loss_weights = torch.tensor([\n",
    "    len(train_dataset) / (2 * label_counts[0]),\n",
    "    len(train_dataset) / (2 * label_counts[1])\n",
    "], dtype=torch.float32).to(DEVICE)\n",
    "\n",
    "criterion = FocalLoss(alpha=loss_weights) if USE_FOCAL_LOSS \\\n",
    "            else nn.CrossEntropyLoss(weight=loss_weights)"
   ]
  },
  {
   "cell_type": "code",
   "execution_count": 40,
   "metadata": {
    "execution": {
     "iopub.execute_input": "2025-08-14T12:11:22.283762Z",
     "iopub.status.busy": "2025-08-14T12:11:22.283416Z",
     "iopub.status.idle": "2025-08-14T12:11:24.244336Z",
     "shell.execute_reply": "2025-08-14T12:11:24.243709Z",
     "shell.execute_reply.started": "2025-08-14T12:11:22.283740Z"
    },
    "trusted": true
   },
   "outputs": [],
   "source": [
    "test_dataset = PrecomputedEmbeddingsDataset(\n",
    "    jsonl_path=\"/kaggle/input/qcri-final-folder/QCRI_ARABIC_FOLDER/task3_test_without_label.jsonl\",\n",
    "    embeddings_path=\"/kaggle/input/qcri-final-folder/QCRI_ARABIC_FOLDER/embeddings.json\",\n",
    "    is_test=True\n",
    ")\n",
    "\n",
    "test_loader = DataLoader(test_dataset, batch_size=32, shuffle=False)"
   ]
  },
  {
   "cell_type": "code",
   "execution_count": 54,
   "metadata": {
    "execution": {
     "iopub.execute_input": "2025-08-14T12:15:50.206649Z",
     "iopub.status.busy": "2025-08-14T12:15:50.206297Z",
     "iopub.status.idle": "2025-08-14T12:15:50.215823Z",
     "shell.execute_reply": "2025-08-14T12:15:50.215278Z",
     "shell.execute_reply.started": "2025-08-14T12:15:50.206620Z"
    },
    "trusted": true
   },
   "outputs": [],
   "source": [
    "model = PrecomputedEmbeddingsClassifier(\n",
    "    image_embedding_dim=sample['image_embedding'].shape[0],\n",
    "    text_embedding_dim=sample['text_embedding'].shape[0],\n",
    "    fusion_type='gate', \n",
    "    projection_dim=256,\n",
    "    num_classes=2\n",
    ")"
   ]
  },
  {
   "cell_type": "code",
   "execution_count": 33,
   "metadata": {
    "execution": {
     "iopub.execute_input": "2025-08-14T12:09:12.186721Z",
     "iopub.status.busy": "2025-08-14T12:09:12.186202Z",
     "iopub.status.idle": "2025-08-14T12:09:12.190494Z",
     "shell.execute_reply": "2025-08-14T12:09:12.189922Z",
     "shell.execute_reply.started": "2025-08-14T12:09:12.186699Z"
    },
    "trusted": true
   },
   "outputs": [],
   "source": [
    "from torch.utils.data import ConcatDataset\n",
    "# Concatenate the datasets\n",
    "combined_dataset = ConcatDataset([train_dataset, val_dataset])\n",
    "\n",
    "full_loader = DataLoader(combined_dataset, batch_size=32, shuffle=True, generator=g)\n"
   ]
  },
  {
   "cell_type": "code",
   "execution_count": 34,
   "metadata": {
    "execution": {
     "iopub.execute_input": "2025-08-14T12:09:36.901082Z",
     "iopub.status.busy": "2025-08-14T12:09:36.900779Z",
     "iopub.status.idle": "2025-08-14T12:09:36.907737Z",
     "shell.execute_reply": "2025-08-14T12:09:36.906924Z",
     "shell.execute_reply.started": "2025-08-14T12:09:36.901058Z"
    },
    "trusted": true
   },
   "outputs": [],
   "source": [
    "import torch\n",
    "import pandas as pd\n",
    "\n",
    "def generate_predictions(model, test_loader, device='cuda'):\n",
    "    \"\"\"\n",
    "    Generate predictions using a trained model and save them to a CSV file.\n",
    "    \n",
    "    Args:\n",
    "        model: Trained PyTorch model\n",
    "        test_loader: DataLoader for test data\n",
    "        output_path (str): Path to save predictions CSV (default: \"prediction.csv\")\n",
    "        device (str): Device to use for inference ('cuda' or 'cpu')\n",
    "    \"\"\"\n",
    "    model.eval()\n",
    "    predictions = []\n",
    "    ids = []\n",
    "\n",
    "    with torch.no_grad():\n",
    "        for batch in test_loader:\n",
    "            # Move batch data to device\n",
    "            img_emb = batch['image_embedding'].to(device, non_blocking=True)\n",
    "            txt_emb = batch['text_embedding'].to(device, non_blocking=True)\n",
    "                    \n",
    "            # Get model predictions\n",
    "            logits = model(img_emb, txt_emb)\n",
    "            preds = torch.argmax(logits, dim=1)\n",
    "\n",
    "            # Store predictions and IDs\n",
    "            predictions.extend(preds.cpu().numpy())\n",
    "            \n",
    "            # Handle IDs (convert to list if tensor)\n",
    "            batch_ids = batch['id']\n",
    "            if isinstance(batch_ids, torch.Tensor):\n",
    "                batch_ids = batch_ids.tolist()\n",
    "            ids.extend(batch_ids)\n",
    "\n",
    "    # Convert numerical predictions to labels\n",
    "    label_map = {0: 'not-hate', 1: 'hate'}\n",
    "    pred_labels = [label_map[p] for p in predictions]\n",
    "\n",
    "    # Save to CSV\n",
    "    df = pd.DataFrame({\n",
    "        'id': ids,\n",
    "        'prediction': pred_labels\n",
    "    })\n",
    "    return df\n"
   ]
  },
  {
   "cell_type": "code",
   "execution_count": 35,
   "metadata": {
    "execution": {
     "iopub.execute_input": "2025-08-14T12:09:38.869896Z",
     "iopub.status.busy": "2025-08-14T12:09:38.869610Z",
     "iopub.status.idle": "2025-08-14T12:09:38.876308Z",
     "shell.execute_reply": "2025-08-14T12:09:38.875513Z",
     "shell.execute_reply.started": "2025-08-14T12:09:38.869877Z"
    },
    "trusted": true
   },
   "outputs": [],
   "source": [
    "import pandas as pd\n",
    "from sklearn.metrics import (classification_report, roc_auc_score, \n",
    "                             f1_score, precision_score, recall_score, \n",
    "                             accuracy_score, confusion_matrix)\n",
    "import json\n",
    "\n",
    "def evaluate_classification_performance(true_labels_path, predictions_df, output_file_path='classification_metrics.json'):\n",
    "    \"\"\"\n",
    "    Evaluate classification performance by comparing true labels with predictions and save results to a file.\n",
    "    \n",
    "    Args:\n",
    "        true_labels_path (str): Path to CSV file containing true labels (columns: id, test_label)\n",
    "        predictions_path (str): Path to CSV file containing predictions (columns: id, prediction)\n",
    "        output_file_path (str): Path to save the evaluation metrics (default: 'classification_metrics.json')\n",
    "    \"\"\"\n",
    "    test_df = pd.read_csv(true_labels_path)\n",
    "    pred_df = predictions_df\n",
    "\n",
    "    # Initialize results dictionary\n",
    "    results = {\n",
    "        'classification_report': {},\n",
    "        'additional_metrics': {},\n",
    "        'confusion_matrix': []\n",
    "    }\n",
    "\n",
    "    # Verify the IDs match (just in case)\n",
    "    if not (test_df['id'] == pred_df['id']).all():\n",
    "        print(\"Warning: IDs don't match between files! Results may be invalid.\")\n",
    "        # Alternative approach if IDs don't match:\n",
    "        merged = pd.merge(test_df, pred_df, on='id', how='inner')\n",
    "        y_true = merged['testing_label']\n",
    "        y_pred = merged['prediction']\n",
    "    else:\n",
    "        y_true = test_df['testing_label']\n",
    "        y_pred = pred_df['prediction']\n",
    "\n",
    "    # For binary classification, convert to numerical if needed\n",
    "    label_map = {'hate': 1, 'not-hate': 0}\n",
    "    if y_true.dtype == 'object':\n",
    "        y_true_num = y_true.map(label_map)\n",
    "        y_pred_num = y_pred.map(label_map)\n",
    "    else:\n",
    "        y_true_num = y_true\n",
    "        y_pred_num = y_pred\n",
    "\n",
    "    return f1_score(y_true_num, y_pred_num, average='macro')\n",
    "    "
   ]
  },
  {
   "cell_type": "code",
   "execution_count": 46,
   "metadata": {
    "execution": {
     "iopub.execute_input": "2025-08-14T12:14:03.181001Z",
     "iopub.status.busy": "2025-08-14T12:14:03.180686Z",
     "iopub.status.idle": "2025-08-14T12:14:03.192355Z",
     "shell.execute_reply": "2025-08-14T12:14:03.191726Z",
     "shell.execute_reply.started": "2025-08-14T12:14:03.180979Z"
    },
    "trusted": true
   },
   "outputs": [],
   "source": [
    "import json\n",
    "from sklearn.metrics import classification_report\n",
    "\n",
    "def train_model(\n",
    "    model,\n",
    "    train_loader,\n",
    "    dev_loader,\n",
    "    criterion,\n",
    "    device,\n",
    "    learning_rate=5e-5,\n",
    "    num_epochs=100,\n",
    "    early_stop_patience=100,\n",
    "    weight_decay=1e-5,\n",
    "    clip_value=1.0,\n",
    "    model_save_path='best_model.pth',\n",
    "    metrics_file_path='training_metrics.json',\n",
    "    shedular_step=True\n",
    "):\n",
    "    # Initialize metrics dictionary\n",
    "    metrics = {\n",
    "        'epochs': [],\n",
    "        'train_losses': [],\n",
    "        'val_f1_macro': [],\n",
    "        'best_f1': 0,\n",
    "        'best_epoch': 0,\n",
    "        'classification_reports': {}\n",
    "    }\n",
    "    \n",
    "    model = model.to(device)\n",
    "    optimizer = AdamW(model.parameters(), lr=learning_rate, weight_decay=weight_decay)\n",
    "    scheduler = ReduceLROnPlateau(optimizer, mode='max', factor=0.5, patience=2, verbose=True)\n",
    "    \n",
    "    best_f1 = 0\n",
    "    epochs_no_improve = 0\n",
    "\n",
    "    for epoch in range(num_epochs):\n",
    "        # Training\n",
    "        model.train()\n",
    "        total_loss = 0\n",
    "        \n",
    "        for i, batch in enumerate(train_loader):\n",
    "            img_emb = batch['image_embedding'].to(device, non_blocking=True)\n",
    "            txt_emb = batch['text_embedding'].to(device, non_blocking=True)\n",
    "            labels = batch['label'].to(device)\n",
    "\n",
    "            optimizer.zero_grad()\n",
    "            logits = model(img_emb, txt_emb)\n",
    "            loss = criterion(logits, labels)\n",
    "            \n",
    "            loss.backward()\n",
    "            torch.nn.utils.clip_grad_norm_(model.parameters(), clip_value)\n",
    "            optimizer.step()\n",
    "\n",
    "            total_loss += loss.item()\n",
    "            if (i + 1) % 50 == 0:\n",
    "                print(f\"Epoch [{epoch+1}/{num_epochs}], Step [{i+1}/{len(train_loader)}], Loss: {loss.item():.4f}\")\n",
    "\n",
    "        # Validation\n",
    "        df = generate_predictions(model, dev_loader)\n",
    "        f1 = evaluate_classification_performance(\n",
    "            '/kaggle/input/qcri-final-folder/QCRI_ARABIC_FOLDER/task3_test_gold.txt',\n",
    "            df\n",
    "        )\n",
    "        avg_train_loss = total_loss / len(train_loader)\n",
    "        \n",
    "        # Record metrics\n",
    "        metrics['epochs'].append(epoch + 1)\n",
    "        metrics['train_losses'].append(avg_train_loss)\n",
    "        metrics['val_f1_macro'].append(f1)\n",
    "        \n",
    "        print(f\"\\nEpoch {epoch+1} | Train Loss: {avg_train_loss:.4f} | Val F1: {f1:.4f}\")\n",
    "        \n",
    "        if shedular_step:\n",
    "            scheduler.step(f1)\n",
    "        \n",
    "        # Check for new best score\n",
    "        if f1 > best_f1:\n",
    "            best_f1 = f1\n",
    "            metrics['best_f1'] = best_f1\n",
    "            metrics['best_epoch'] = epoch + 1\n",
    "            epochs_no_improve = 0\n",
    "            \n",
    "            # Save model\n",
    "            torch.save(model.state_dict(), model_save_path)\n",
    "            \n",
    "            # Save metrics to file\n",
    "            with open(metrics_file_path, 'w') as f:\n",
    "                json.dump(metrics, f, indent=4)\n",
    "                \n",
    "        else:\n",
    "            epochs_no_improve += 1\n",
    "            if epochs_no_improve == early_stop_patience:\n",
    "                print(f\"Early stopping triggered at epoch {epoch+1}\")\n",
    "                # Save metrics before early stopping\n",
    "                with open(metrics_file_path, 'w') as f:\n",
    "                    json.dump(metrics, f, indent=4)\n",
    "                break\n",
    "        \n",
    "        # Save metrics after each epoch (in case of interruption)\n",
    "        with open(metrics_file_path, 'w') as f:\n",
    "            json.dump(metrics, f, indent=4)\n",
    "\n",
    "    print(\"Training complete. Loading best model.\")\n",
    "    model.load_state_dict(torch.load(model_save_path))\n",
    "    \n",
    "    return model, best_f1"
   ]
  },
  {
   "cell_type": "code",
   "execution_count": null,
   "metadata": {
    "execution": {
     "iopub.execute_input": "2025-08-14T12:15:53.414744Z",
     "iopub.status.busy": "2025-08-14T12:15:53.414397Z",
     "iopub.status.idle": "2025-08-14T12:16:05.872289Z",
     "shell.execute_reply": "2025-08-14T12:16:05.871606Z",
     "shell.execute_reply.started": "2025-08-14T12:15:53.414724Z"
    },
    "trusted": true
   },
   "outputs": [],
   "source": [
    "# Train model\n",
    "trained_model, best_f1 = train_model(\n",
    "    model=model,\n",
    "    train_loader=full_loader,\n",
    "    dev_loader=test_loader,\n",
    "    criterion=criterion,\n",
    "    device=torch.device(\"cuda\" if torch.cuda.is_available() else \"cpu\"),\n",
    "    num_epochs=50,\n",
    "    early_stop_patience=10,\n",
    "    shedular_step=False\n",
    ")"
   ]
  }
 ],
 "metadata": {
  "kaggle": {
   "accelerator": "nvidiaTeslaT4",
   "dataSources": [
    {
     "datasetId": 8027417,
     "sourceId": 12701773,
     "sourceType": "datasetVersion"
    }
   ],
   "dockerImageVersionId": 31090,
   "isGpuEnabled": true,
   "isInternetEnabled": true,
   "language": "python",
   "sourceType": "notebook"
  },
  "kernelspec": {
   "display_name": "Python 3",
   "language": "python",
   "name": "python3"
  },
  "language_info": {
   "codemirror_mode": {
    "name": "ipython",
    "version": 3
   },
   "file_extension": ".py",
   "mimetype": "text/x-python",
   "name": "python",
   "nbconvert_exporter": "python",
   "pygments_lexer": "ipython3",
   "version": "3.11.13"
  }
 },
 "nbformat": 4,
 "nbformat_minor": 4
}
